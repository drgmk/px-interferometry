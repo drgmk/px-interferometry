{
 "cells": [
  {
   "cell_type": "code",
   "execution_count": 1,
   "id": "880d7378",
   "metadata": {
    "ExecuteTime": {
     "end_time": "2024-09-18T15:01:57.491317Z",
     "start_time": "2024-09-18T15:01:56.561741Z"
    }
   },
   "outputs": [],
   "source": [
    "import os\n",
    "import numpy as np\n",
    "import matplotlib.pyplot as plt\n",
    "import scipy.optimize\n",
    "\n",
    "# uncomment to make plots interactive\n",
    "# %matplotlib notebook"
   ]
  },
  {
   "cell_type": "markdown",
   "id": "b1a9eaab",
   "metadata": {},
   "source": [
    "# Fit a visibility function to some results from fringes\n",
    "This notebook gives an example of how to input some visibility data and fit a function to obtain a source size."
   ]
  },
  {
   "cell_type": "markdown",
   "id": "a6029bc2-0968-4bc4-b1e6-6b1c233ee9c8",
   "metadata": {},
   "source": [
    "## Read in the fitted data\n",
    "\n",
    "Create a list of your fits files in a text file which is in the same folder as the data. Each line has the baseline length in mm, the filter, and the file name. The quick way to do this is to take images in a systematic order, e.g. all baselines in one filter, then all baselines in the next filter, etc.\n",
    "\n",
    "The file looks something like this:\n",
    "```\n",
    "2 r image1.fits\n",
    "3 g image2.fits\n",
    "0.6 b image3.fits\n",
    "```\n",
    "The code below figures out from the path to the text file where the fits and save files are.\n",
    "\n",
    "This method is preferred, since we can also plot how the fringe spacing compares with the wavelength and baseline; if something was labelled incorrectly this can be spotted here.\n",
    "\n",
    "See the end of this notebook for a cell where you can put the visibility values in by hand.\n",
    "\n",
    "These data show how good the results can be!"
   ]
  },
  {
   "cell_type": "code",
   "execution_count": 2,
   "id": "c7c99e95-3164-4f99-9a00-fffcab0523b6",
   "metadata": {
    "collapsed": false,
    "ExecuteTime": {
     "end_time": "2024-09-18T15:01:57.504533Z",
     "start_time": "2024-09-18T15:01:57.493289Z"
    }
   },
   "outputs": [],
   "source": [
    "textfile = '../testdata/single_2mm/files.txt'\n",
    "\n",
    "# you will need a line something like this, that goes up two\n",
    "# directory levels and then to wherever you have saved the images\n",
    "# textfile = '../../Data/single_2mm/files.txt'\n",
    "\n",
    "path = os.path.dirname(textfile)\n",
    "\n",
    "# wavelengths for red, green, blue\n",
    "lam = np.array([615, 530, 455]) * 1e-9\n",
    "u_all = np.array([])\n",
    "v_all = np.array([])\n",
    "b_all = np.array([])\n",
    "w_all = np.array([])\n",
    "wav_all = np.array([])\n",
    "\n",
    "for l in open(textfile, 'r'):\n",
    "\n",
    "    # extract the info from the line\n",
    "    b, filt, file = l.split()\n",
    "    b_all = np.append(b_all, float(b))\n",
    "    file = file.rstrip()\n",
    "\n",
    "    # convert filter name to wavelength\n",
    "    if filt == 'r': wav = lam[0]\n",
    "    if filt == 'g': wav = lam[1]\n",
    "    if filt == 'b': wav = lam[2]\n",
    "    wav_all = np.append(wav_all, wav)\n",
    "    \n",
    "    # get b/lambda\n",
    "    u_all = np.append(u_all, float(b)/wav/1e3)\n",
    "\n",
    "    # uncomment one or other of below lines\n",
    "\n",
    "    # get visibility from image fitting\n",
    "    # (and fitted wavelengths for sanity checking)\n",
    "    par = np.load(path + '/' + os.path.splitext(file)[0]+'-params.npy')\n",
    "    vis_ = par[6]\n",
    "    w_all = np.append(w_all, par[2])\n",
    "\n",
    "    # uncomment to use visibility from saved FT results\n",
    "#     vis_ = np.load(path + '/' + os.path.splitext(file)[0]+'-FTparams.npy')\n",
    "\n",
    "    v_all = np.append(v_all, vis_)"
   ]
  },
  {
   "cell_type": "markdown",
   "id": "7c751873-c7a1-4ba1-af9f-170eb4428614",
   "metadata": {},
   "source": [
    "### Sanity check baselines and wavelengths\n",
    "This plot shows the expected fringe spacing ($\\lambda/b$) divided by the measured fringe spacing from the fitting. Dots are coloured by their baseline, so should appear in triplets (one for each wavelength).\n",
    "\n",
    "The values in this plot should be roughly constant, within about 10% of each other. Ratios that are a long way off the others indicate poor fitting (expected for small $\\lambda/b$ where visibilities are very small and hard to fit), or other issues (e.g. incorrectly recorded baseline).\n",
    "\n",
    "Some variation as seen in the example is OK, these indicate systematic uncertainties, for example that the actual baseline lengths differ somewhat from those given in the lab script (e.g. the 1mm hole, which is the second from right set of three points that are quite low) is probably a little smaller). The main point here is to help diagnose issues if the visibility fit below looks poor and has systematic offsets for some data."
   ]
  },
  {
   "cell_type": "code",
   "execution_count": 3,
   "id": "b61ffd3d-da8c-43b4-9df6-7aeb93531cee",
   "metadata": {
    "ExecuteTime": {
     "end_time": "2024-09-18T15:01:57.636683Z",
     "start_time": "2024-09-18T15:01:57.504289Z"
    }
   },
   "outputs": [
    {
     "data": {
      "text/plain": "<Figure size 640x480 with 1 Axes>",
      "image/png": "[encoded data removed]"
     },
     "metadata": {},
     "output_type": "display_data"
    }
   ],
   "source": [
    "fig, ax = plt.subplots()\n",
    "ax.scatter(wav_all/b_all, 1e9*wav_all/b_all/w_all, c=b_all)\n",
    "ax.set_xlabel('$\\\\lambda/b$')\n",
    "ax.set_ylabel('$\\\\lambda/b$ divided by fringe spacing')\n",
    "ax.set_xscale('log')"
   ]
  },
  {
   "cell_type": "markdown",
   "source": [
    "## Manual data entry\n",
    "Here is where you would enter data by hand, similar to the last cell in this notebook, or from the 3-hole notebook."
   ],
   "metadata": {
    "collapsed": false
   },
   "id": "1ad6c3229867abfd"
  },
  {
   "cell_type": "code",
   "outputs": [],
   "source": [
    "# manual data entered here"
   ],
   "metadata": {
    "collapsed": false,
    "ExecuteTime": {
     "end_time": "2024-09-18T15:01:57.636972Z",
     "start_time": "2024-09-18T15:01:57.626797Z"
    }
   },
   "id": "dcbbbb1917b6edd4",
   "execution_count": 4
  },
  {
   "cell_type": "markdown",
   "id": "36b46c6e",
   "metadata": {},
   "source": [
    "## Now write a function that we will fit\n",
    "The first function returns the absolute value of the visibility (we cannot measure negative values, and are not dealing with phases here) for some input parameters $p$, which are\n",
    "- p[0]: the peak of the function at zero baseline, this might not be exactly 1\n",
    "- p[1]: the angular size in radians of the source\n",
    "\n",
    "The second function computes the $\\chi^2$, though here we have no uncertainties on the visibility measurements so there is no denominator. This function uses the data `v_all` defined above, so this is a global variable and we do not need to pass it to the function."
   ]
  },
  {
   "cell_type": "code",
   "execution_count": 5,
   "id": "a67c5118",
   "metadata": {
    "ExecuteTime": {
     "end_time": "2024-09-18T15:01:57.637158Z",
     "start_time": "2024-09-18T15:01:57.630032Z"
    }
   },
   "outputs": [],
   "source": [
    "def vis(p, u):\n",
    "    return np.abs( 2 * p[0] * scipy.special.jv(1, np.pi*u*p[1]) / (np.pi*u*p[1]) )\n",
    "\n",
    "def chi2_vis(p, u):\n",
    "    return np.sum( (v_all - vis(p, u))**2 )\n",
    "\n",
    "def vis_curve_fit(u, p0, p1):\n",
    "    return vis( [p0, p1], u)"
   ]
  },
  {
   "cell_type": "markdown",
   "id": "f21915c3",
   "metadata": {},
   "source": [
    "## Do the fitting\n",
    "There are various minimisation codes we might use, some take a 'merit function' as input, such as one that computes a $\\chi^2$, where others take a function that computes y values given some x. In choosing a function it's useful to use one that can incorporate uncertainties and give estimated uncertainties on the output parameters.\n",
    "\n",
    "`scipy.optimize.minimize` takes as input the name of the function we are minimising (`chi2_vis`) and some initial guesses for the two parameters. It also takes the $b/\\lambda$ values. It does not necessarily use uncertainties.\n",
    "\n",
    "`scipy.optimize.curve_fit` takes a function that computes y values for a given x, can take uncertainties, and returns a covariance matrix. We can take the diagonal values of this matrix as estimates of the variance for each fitted parameter."
   ]
  },
  {
   "cell_type": "code",
   "execution_count": 6,
   "id": "7feeee45",
   "metadata": {
    "ExecuteTime": {
     "end_time": "2024-09-18T15:01:57.637383Z",
     "start_time": "2024-09-18T15:01:57.632679Z"
    }
   },
   "outputs": [
    {
     "name": "stdout",
     "output_type": "stream",
     "text": [
      "[9.63070345e-01 2.45520201e-04]\n"
     ]
    }
   ],
   "source": [
    "# run a first fit with minimize\n",
    "r = scipy.optimize.minimize(chi2_vis, (1,0.0003), args=(u_all), method='Nelder-Mead')\n",
    "fitted = r['x']\n",
    "\n",
    "# print the best fit values, the first is the visibility at zero baseline,\n",
    "# the second the angular size of the source in radians\n",
    "print(fitted)"
   ]
  },
  {
   "cell_type": "markdown",
   "id": "e639ff14",
   "metadata": {},
   "source": [
    "### Visibility uncertainties\n",
    "With an initial fit, we can estimate uncertainties from the distribution of measurements around the best-fit model. This assumes that the uncertainty on every measurement is the same, which may not be true, but is a sensible empirical approach.\n",
    "\n",
    "As long as the fit is a reasonably good approximation of reality, the value is likely to be close to the real uncertainty."
   ]
  },
  {
   "cell_type": "code",
   "execution_count": 7,
   "id": "42fb47ac",
   "metadata": {
    "ExecuteTime": {
     "end_time": "2024-09-18T15:01:57.651680Z",
     "start_time": "2024-09-18T15:01:57.637040Z"
    }
   },
   "outputs": [
    {
     "name": "stdout",
     "output_type": "stream",
     "text": [
      "0.01574946434919355\n"
     ]
    }
   ],
   "source": [
    "unc = np.std(v_all - vis(fitted, u_all))\n",
    "print(unc)\n",
    "\n",
    "v_unc = np.repeat(unc, len(v_all))"
   ]
  },
  {
   "cell_type": "code",
   "execution_count": 8,
   "id": "ed2268cb",
   "metadata": {
    "ExecuteTime": {
     "end_time": "2024-09-18T15:01:57.652042Z",
     "start_time": "2024-09-18T15:01:57.640829Z"
    }
   },
   "outputs": [
    {
     "name": "stdout",
     "output_type": "stream",
     "text": [
      "0.9631156181544371 +/- 0.005514112262731557\n",
      "0.0002455139387696662 +/- 1.348894525794313e-06\n"
     ]
    }
   ],
   "source": [
    "# now run a fit that incorporates uncertainties, starting from the previous fit\n",
    "r = scipy.optimize.curve_fit(vis_curve_fit, u_all, v_all,\n",
    "                             sigma=v_unc, absolute_sigma=True,\n",
    "                             p0=fitted )\n",
    "\n",
    "fitted = r[0]\n",
    "uncertainty = np.sqrt(r[1].diagonal())\n",
    "\n",
    "for i in [0,1]:\n",
    "    print(f'{fitted[i]} +/- {uncertainty[i]}')"
   ]
  },
  {
   "cell_type": "markdown",
   "id": "08e589cb",
   "metadata": {},
   "source": [
    "### Diameter measurement\n",
    "Now we can convert to a physical diameter at the distance between the front of the telescope and the source aperture. The uncertainty here comes out to be very small, perhaps unrealistically so."
   ]
  },
  {
   "cell_type": "code",
   "execution_count": 9,
   "id": "ba967651",
   "metadata": {
    "ExecuteTime": {
     "end_time": "2024-09-18T15:01:57.652252Z",
     "start_time": "2024-09-18T15:01:57.643551Z"
    }
   },
   "outputs": [
    {
     "name": "stdout",
     "output_type": "stream",
     "text": [
      "2.062 +/- 0.011 mm\n"
     ]
    }
   ],
   "source": [
    "# convert to actual size in mm, assuming distance of 8.4m\n",
    "d = 8.4\n",
    "\n",
    "print(f'{fitted[1] * d * 1e3:.3f} +/- {uncertainty[1] * d * 1e3:.3f} mm')"
   ]
  },
  {
   "cell_type": "markdown",
   "id": "46ecb415",
   "metadata": {},
   "source": [
    "## Plot the results\n",
    "Here we plot the data and the best fit to the data to check things are sensible, i.e. that the model goes through most of the data.\n",
    "\n",
    "We can also plot the residuals (`data-model`) divided by their uncertainties, so the residuals are in units of standard deviations. If these look like they are random noise then the model is a good fit."
   ]
  },
  {
   "cell_type": "code",
   "execution_count": 10,
   "id": "c122acf0",
   "metadata": {
    "ExecuteTime": {
     "end_time": "2024-09-18T15:01:57.721137Z",
     "start_time": "2024-09-18T15:01:57.651574Z"
    }
   },
   "outputs": [
    {
     "data": {
      "text/plain": "<Figure size 640x480 with 2 Axes>",
      "image/png": "[encoded data removed]"
     },
     "metadata": {},
     "output_type": "display_data"
    }
   ],
   "source": [
    "fig, ax = plt.subplots(2, sharex=True, gridspec_kw={'height_ratios': [3, 1]})\n",
    "# ax[0].plot(u_r, v_r, '.r')\n",
    "# ax[0].plot(u_g, v_g, '.g')\n",
    "# ax[0].plot(u_b, v_b, '.b')\n",
    "# ax[0].plot(u_all, v_all, 'o')\n",
    "ax[0].errorbar(u_all, v_all, v_unc, fmt='.')\n",
    "\n",
    "u = np.linspace(1, 1e4, num=100)\n",
    "ax[0].plot(u, vis(fitted, u))\n",
    "\n",
    "ax[1].plot(u_all, (v_all - vis(fitted, u_all))/unc, '.')\n",
    "\n",
    "ax[1].set_xlabel('$b/\\\\lambda$')\n",
    "ax[0].set_ylabel('|visibility|')\n",
    "ax[1].set_ylabel('residuals')\n",
    "fig.subplots_adjust(hspace=0.1)"
   ]
  },
  {
   "cell_type": "markdown",
   "id": "190712a2",
   "metadata": {
    "collapsed": false
   },
   "source": [
    "A similar check is whether the distribution looks like it is approximately Gaussian with sigma=1 (bearing in mind that we do not have a lot of data). This is not really as good as the above since systematic variations with baseline are not visible in the histogram."
   ]
  },
  {
   "cell_type": "code",
   "execution_count": 11,
   "id": "f13183e0",
   "metadata": {
    "ExecuteTime": {
     "end_time": "2024-09-18T15:01:57.769909Z",
     "start_time": "2024-09-18T15:01:57.725694Z"
    }
   },
   "outputs": [
    {
     "data": {
      "text/plain": "Text(0, 0.5, 'number')"
     },
     "execution_count": 11,
     "metadata": {},
     "output_type": "execute_result"
    },
    {
     "data": {
      "text/plain": "<Figure size 640x480 with 1 Axes>",
      "image/png": "[encoded data removed]"
     },
     "metadata": {},
     "output_type": "display_data"
    }
   ],
   "source": [
    "fig, ax = plt.subplots()\n",
    "ax.hist((v_all - vis(fitted, u_all))/unc, bins=10)\n",
    "\n",
    "x = np.linspace(-4,4)\n",
    "ax.plot(x, 10*np.exp(-0.5*x**2))\n",
    "\n",
    "ax.set_xlabel('residuals / sigma')\n",
    "ax.set_ylabel('number')"
   ]
  },
  {
   "cell_type": "markdown",
   "id": "1746101e",
   "metadata": {},
   "source": [
    "## Manually enter the data into some arrays\n",
    "An alternative to creating a text file with the fitted results, where the wavelengths and visibilities are entered by hand.\n",
    "\n",
    "The numbers here are just examples, you will need to change everything!"
   ]
  },
  {
   "cell_type": "code",
   "execution_count": 12,
   "id": "26d24311",
   "metadata": {
    "ExecuteTime": {
     "end_time": "2024-09-18T15:01:57.775382Z",
     "start_time": "2024-09-18T15:01:57.769408Z"
    }
   },
   "outputs": [],
   "source": [
    "# baseline lengths\n",
    "#                 b1   b2   b3   b5    b6\n",
    "b    = np.array([ 4,  2,  1,   0.6,   3]) * 1e-3\n",
    "\n",
    "# visibilities\n",
    "v_r = np.array([0.05,0.24, 0.68,0.77,0.07])\n",
    "v_g = np.array([0.00,0.127,0.62,0.74,0.099])\n",
    "v_b = np.array([0.01,0.008,0.46,0.69,0.16])\n",
    "\n",
    "# wavelengths    r    g    b\n",
    "lam = np.array([615, 530, 455]) * 1e-9\n",
    "\n",
    "# get b/lambda (i.e. the x-axis values)\n",
    "u_b = b/lam[2]\n",
    "u_g = b/lam[1]\n",
    "u_r = b/lam[0]\n",
    "\n",
    "# combine\n",
    "v_all = np.concatenate((v_r,v_g,v_b))\n",
    "u_all = np.concatenate((u_r,u_g,u_b))"
   ]
  }
 ],
 "metadata": {
  "kernelspec": {
   "display_name": "Python 3 (ipykernel)",
   "language": "python",
   "name": "python3"
  },
  "language_info": {
   "codemirror_mode": {
    "name": "ipython",
    "version": 3
   },
   "file_extension": ".py",
   "mimetype": "text/x-python",
   "name": "python",
   "nbconvert_exporter": "python",
   "pygments_lexer": "ipython3",
   "version": "3.12.4"
  }
 },
 "nbformat": 4,
 "nbformat_minor": 5
}
