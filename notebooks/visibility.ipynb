{
 "cells": [
  {
   "cell_type": "code",
   "execution_count": 1,
   "id": "880d7378",
   "metadata": {
    "ExecuteTime": {
     "start_time": "2024-02-13T14:03:39.520134Z",
     "end_time": "2024-02-13T14:03:39.966746Z"
    }
   },
   "outputs": [],
   "source": [
    "import os\n",
    "import numpy as np\n",
    "import matplotlib.pyplot as plt\n",
    "import scipy.optimize\n",
    "\n",
    "# uncomment to make plots interactive\n",
    "# %matplotlib notebook"
   ]
  },
  {
   "cell_type": "markdown",
   "id": "b1a9eaab",
   "metadata": {},
   "source": [
    "# Fit a visibility function to some results from fringes\n",
    "This notebook gives an example of how to input some visibility data and fit a function to obtain a source size."
   ]
  },
  {
   "cell_type": "markdown",
   "id": "1746101e",
   "metadata": {},
   "source": [
    "## Manually enter the data into some arrays\n",
    "The numbers here are just examples, you will need to change everything!\n",
    "\n",
    "See end of notebook for an example where measurements are logged in a text file."
   ]
  },
  {
   "cell_type": "code",
   "execution_count": 2,
   "id": "26d24311",
   "metadata": {
    "ExecuteTime": {
     "start_time": "2024-02-13T14:03:39.969280Z",
     "end_time": "2024-02-13T14:03:39.970697Z"
    }
   },
   "outputs": [],
   "source": [
    "# baseline lengths\n",
    "#                 b1   b2   b3   b5    b6\n",
    "b    = np.array([ 4,  1.9,  1,   0.7,   3]) * 1e-3\n",
    "\n",
    "# visibilities\n",
    "v_r = np.array([0.05,0.24, 0.68,0.77,0.07])\n",
    "v_g = np.array([0.00,0.127,0.62,0.74,0.099])\n",
    "v_b = np.array([0.01,0.008,0.46,0.69,0.16])\n",
    "\n",
    "# wavelengths    b    v    r\n",
    "lam = np.array([430, 520, 600]) * 1e-9\n",
    "\n",
    "# get b/lambda (i.e. the x-axis values)\n",
    "u_b = b/lam[0]\n",
    "u_g = b/lam[1]\n",
    "u_r = b/lam[2]\n",
    "\n",
    "# combine\n",
    "v_all = np.concatenate((v_r,v_g,v_b))\n",
    "u_all = np.concatenate((u_r,u_g,u_b))"
   ]
  },
  {
   "cell_type": "markdown",
   "id": "36b46c6e",
   "metadata": {},
   "source": [
    "## Now write a function that we will fit\n",
    "The first function returns the absolute value of the visibility (we cannot measure negative values, and are not dealing with phases here) for some input parameters $p$, which are\n",
    "- p[0]: the peak of the function at zero baseline, this might not be exactly 1\n",
    "- p[1]: the angular size in radians of the source\n",
    "\n",
    "The second function computes the $\\chi^2$, though here we have no uncertainties on the visibility measurements so there is no denominator. This function uses the data `v_all` defined above, so this is a global variable and we do not need to pass it to the function."
   ]
  },
  {
   "cell_type": "code",
   "execution_count": 3,
   "id": "a67c5118",
   "metadata": {
    "ExecuteTime": {
     "start_time": "2024-02-13T14:03:39.972325Z",
     "end_time": "2024-02-13T14:03:39.973841Z"
    }
   },
   "outputs": [],
   "source": [
    "def vis(p, u):\n",
    "    return np.abs( 2 * p[0] * scipy.special.jv(1, np.pi*u*p[1]) / (np.pi*u*p[1]) )\n",
    "\n",
    "def chi2_vis(p, u):\n",
    "    return np.sum( (v_all - vis(p, u))**2 )\n",
    "\n",
    "def vis_curve_fit(u, p0, p1):\n",
    "    return vis( [p0, p1], u)"
   ]
  },
  {
   "cell_type": "markdown",
   "id": "f21915c3",
   "metadata": {},
   "source": [
    "## Do the fitting\n",
    "There are various minimisation codes we might use, some take a 'merit function' as input, such as one that computes a $\\chi^2$, where others take a function that computes y values given some x. In choosing a function it's useful to use one that can incorporate uncertainties and give estimated uncertainties on the output parameters.\n",
    "\n",
    "`scipy.optimize.minimize` takes as input the name of the function we are minimising (`chi2_vis`) and some initial guesses for the two parameters. It also takes the $b/\\lambda$ values. It does not necessarily use uncertainties.\n",
    "\n",
    "`scipy.optimize.curve_fit` takes a function that computes y values for a given x, can take uncertainties, and returns a covariance matrix. We can take the diagonal values of this matrix as estimates of the variance for each fitted parameter."
   ]
  },
  {
   "cell_type": "code",
   "execution_count": 4,
   "id": "7feeee45",
   "metadata": {
    "ExecuteTime": {
     "start_time": "2024-02-13T14:03:39.974951Z",
     "end_time": "2024-02-13T14:03:39.978981Z"
    }
   },
   "outputs": [
    {
     "name": "stdout",
     "output_type": "stream",
     "text": [
      "[8.85298166e-01 2.80767772e-04]\n"
     ]
    }
   ],
   "source": [
    "# run a first fit with minimize\n",
    "r = scipy.optimize.minimize(chi2_vis, (1,0.0003), args=(u_all), method='Nelder-Mead')\n",
    "fitted = r['x']\n",
    "\n",
    "# print the best fit values, the first is the visiblity at zero baseline,\n",
    "# the second the angular size of the source in radians\n",
    "print(fitted)"
   ]
  },
  {
   "cell_type": "markdown",
   "id": "e639ff14",
   "metadata": {},
   "source": [
    "### Visibility uncertainties\n",
    "With an initial fit, we can estimate uncertainties from the distribution of measurements around the best-fit model. This assumes that the uncertainty on every measurement is the same, which may not be true, but is a sensible empirical approach.\n",
    "\n",
    "As long as the fit is a reasonably good approximation of reality, the value is likely to be close to the real uncertainty."
   ]
  },
  {
   "cell_type": "code",
   "execution_count": 5,
   "id": "42fb47ac",
   "metadata": {
    "ExecuteTime": {
     "start_time": "2024-02-13T14:03:39.981138Z",
     "end_time": "2024-02-13T14:03:39.982781Z"
    }
   },
   "outputs": [
    {
     "name": "stdout",
     "output_type": "stream",
     "text": [
      "0.031296056245400515\n"
     ]
    }
   ],
   "source": [
    "unc = np.std(v_all - vis(fitted, u_all))\n",
    "print(unc)\n",
    "\n",
    "v_unc = np.repeat(unc, len(v_all))"
   ]
  },
  {
   "cell_type": "code",
   "execution_count": 6,
   "id": "ed2268cb",
   "metadata": {
    "ExecuteTime": {
     "start_time": "2024-02-13T14:03:39.984678Z",
     "end_time": "2024-02-13T14:03:39.986397Z"
    }
   },
   "outputs": [
    {
     "name": "stdout",
     "output_type": "stream",
     "text": [
      "0.8853292050679888 +/- 0.020250876959567333\n",
      "0.0002807715875301085 +/- 5.423620688013061e-06\n"
     ]
    }
   ],
   "source": [
    "# now run a fit that incorporates uncertainties, starting from the previous fit\n",
    "r = scipy.optimize.curve_fit(vis_curve_fit, u_all, v_all,\n",
    "                             sigma=v_unc, absolute_sigma=True,\n",
    "                             p0=fitted )\n",
    "\n",
    "fitted = r[0]\n",
    "uncertainty = np.sqrt(r[1].diagonal())\n",
    "\n",
    "for i in [0,1]:\n",
    "    print(f'{fitted[i]} +/- {uncertainty[i]}')"
   ]
  },
  {
   "cell_type": "markdown",
   "id": "08e589cb",
   "metadata": {},
   "source": [
    "### Diameter measurement\n",
    "Now we can convert to a physical diameter at the distance between the front of the telescope and the source aperture. The uncertainty here comes out to be very small, perhaps unrealistically so."
   ]
  },
  {
   "cell_type": "code",
   "execution_count": 7,
   "id": "ba967651",
   "metadata": {
    "ExecuteTime": {
     "start_time": "2024-02-13T14:03:39.986896Z",
     "end_time": "2024-02-13T14:03:40.023791Z"
    }
   },
   "outputs": [
    {
     "name": "stdout",
     "output_type": "stream",
     "text": [
      "2.358 +/- 0.046 mm\n"
     ]
    }
   ],
   "source": [
    "# convert to actual size in mm, assuming distance of 7m\n",
    "d = 8.4\n",
    "\n",
    "print(f'{fitted[1] * d * 1e3:.3f} +/- {uncertainty[1] * d * 1e3:.3f} mm')"
   ]
  },
  {
   "cell_type": "markdown",
   "id": "46ecb415",
   "metadata": {},
   "source": [
    "## Plot the results\n",
    "Here we plot the data and the best fit to the data to check things are sensible, i.e. that the model goes through most of the data.\n",
    "\n",
    "We can also plot the residuals (`data-model`) divided by their uncertainties, so the residuals are in units of standard deviations. If these look like they are random noise then the model is a good fit."
   ]
  },
  {
   "cell_type": "code",
   "execution_count": 8,
   "id": "c122acf0",
   "metadata": {
    "ExecuteTime": {
     "start_time": "2024-02-13T14:03:39.990548Z",
     "end_time": "2024-02-13T14:03:40.163275Z"
    }
   },
   "outputs": [
    {
     "data": {
      "text/plain": "<Figure size 640x480 with 2 Axes>",
      "image/png": "[encoded data removed]"
     },
     "metadata": {},
     "output_type": "display_data"
    }
   ],
   "source": [
    "fig, ax = plt.subplots(2, sharex=True, gridspec_kw={'height_ratios': [3, 1]})\n",
    "# ax[0].plot(u_r, v_r, '.r')\n",
    "# ax[0].plot(u_g, v_g, '.g')\n",
    "# ax[0].plot(u_b, v_b, '.b')\n",
    "# ax[0].plot(u_all, v_all, 'o')\n",
    "ax[0].errorbar(u_all, v_all, v_unc, fmt='.')\n",
    "\n",
    "u = np.linspace(1, 1e4)\n",
    "ax[0].plot(u, vis(fitted, u))\n",
    "\n",
    "ax[1].plot(u_all, (v_all - vis(fitted, u_all))/unc, '.')\n",
    "\n",
    "ax[1].set_xlabel('$b/\\lambda$')\n",
    "ax[0].set_ylabel('|visibility|')\n",
    "ax[1].set_ylabel('residuals')\n",
    "fig.subplots_adjust(hspace=0.1)"
   ]
  },
  {
   "cell_type": "markdown",
   "source": [
    "A similar check is whether the distribution looks like it is approximately Gaussian with sigma=1 (bearing in mind that we do not have a lot of data). This is not really as good as the above since systematic variations with baseline are not visible in the histogram."
   ],
   "metadata": {
    "collapsed": false
   }
  },
  {
   "cell_type": "code",
   "execution_count": 9,
   "id": "f13183e0",
   "metadata": {
    "ExecuteTime": {
     "start_time": "2024-02-13T14:03:40.177130Z",
     "end_time": "2024-02-13T14:03:40.238595Z"
    }
   },
   "outputs": [
    {
     "data": {
      "text/plain": "Text(0, 0.5, 'number')"
     },
     "execution_count": 9,
     "metadata": {},
     "output_type": "execute_result"
    },
    {
     "data": {
      "text/plain": "<Figure size 640x480 with 1 Axes>",
      "image/png": "[encoded data removed]"
     },
     "metadata": {},
     "output_type": "display_data"
    }
   ],
   "source": [
    "fig, ax = plt.subplots()\n",
    "ax.hist((v_all - vis(fitted, u_all))/unc, bins=10)\n",
    "\n",
    "x = np.linspace(-4,4)\n",
    "ax.plot(x, 10*np.exp(-0.5*x**2))\n",
    "\n",
    "ax.set_xlabel('residuals / sigma')\n",
    "ax.set_ylabel('number')"
   ]
  },
  {
   "cell_type": "markdown",
   "source": [
    "## Reading from numpy save files\n",
    "Here we have a list of fits files in a text file, each line has the baseline length in mm, the filter, and the file name. For example\n",
    "```\n",
    "2 r path/to/image1.fits\n",
    "3 g path/to/image2.fits\n",
    "```\n",
    "The code figures out from the path to the text file where the fits and save files are.\n",
    "\n",
    "These data were taken by some final-year project students, something to aim for!"
   ],
   "metadata": {
    "collapsed": false
   }
  },
  {
   "cell_type": "code",
   "execution_count": 10,
   "outputs": [
    {
     "name": "stdout",
     "output_type": "stream",
     "text": [
      "SrcC0.6B/200123_133026/2023-01-20-1330_4-U-G-Jup_0000.fits\n",
      "SrcC0.6B/200123_133027/2023-01-20-1330_4-U-G-Jup_0000.fits\n",
      "SrcC0.6G/200123_132912/2023-01-20-1329_2-U-G-Jup_0000.fits\n",
      "SrcC0.6G/200123_132914/2023-01-20-1329_2-U-G-Jup_0000.fits\n",
      "SrcC0.6R/200123_132305/2023-01-20-1323_0-U-G-Jup_0000.fits\n",
      "SrcC0.6R/200123_132306/2023-01-20-1323_1-U-G-Jup_0000.fits\n",
      "SrcC0.6R/200123_132308/2023-01-20-1323_1-U-G-Jup_0000.fits\n",
      "SrcC1B/200123_133045/2023-01-20-1330_7-U-G-Jup_0000.fits\n",
      "SrcC1B/200123_133046/2023-01-20-1330_7-U-G-Jup_0000.fits\n",
      "SrcC1G/200123_132823/2023-01-20-1328_3-U-G-Jup_0000.fits\n",
      "SrcC1G/200123_132824/2023-01-20-1328_4-U-G-Jup_0000.fits\n",
      "SrcC1R/200123_132424/2023-01-20-1324_4-U-G-Jup_0000.fits\n",
      "SrcC1R/200123_132425/2023-01-20-1324_4-U-G-Jup_0000.fits\n",
      "SrcC1R/200123_132426/2023-01-20-1324_4-U-G-Jup_0000.fits\n",
      "SrcC2B/200123_133112/2023-01-20-1331_2-U-G-Jup_0000.fits\n",
      "SrcC2B/200123_133113/2023-01-20-1331_2-U-G-Jup_0000.fits\n",
      "SrcC2G/200123_132800/2023-01-20-1328_0-U-G-Jup_0000.fits\n",
      "SrcC2G/200123_132801/2023-01-20-1328_0-U-G-Jup_0000.fits\n",
      "SrcC2R/200123_132503/2023-01-20-1325_0-U-G-Jup_0000.fits\n",
      "SrcC2R/200123_132504/2023-01-20-1325_0-U-G-Jup_0000.fits\n",
      "SrcC2R/200123_132505/2023-01-20-1325_0-U-G-Jup_0000.fits\n",
      "SrcC2R/200123_132506/2023-01-20-1325_1-U-G-Jup_0000.fits\n",
      "SrcC3B/200123_133130/2023-01-20-1331_5-U-G-Jup_0000.fits\n",
      "SrcC3B/200123_133131/2023-01-20-1331_5-U-G-Jup_0000.fits\n",
      "SrcC3G/200123_132742/2023-01-20-1327_7-U-G-Jup_0000.fits\n",
      "SrcC3G/200123_132743/2023-01-20-1327_7-U-G-Jup_0000.fits\n",
      "SrcC3R/200123_132551/2023-01-20-1325_8-U-G-Jup_0000.fits\n",
      "SrcC3R/200123_132553/2023-01-20-1325_8-U-G-Jup_0000.fits\n",
      "SrcC3R/200123_132554/2023-01-20-1325_9-U-G-Jup_0000.fits\n",
      "SrcC4B/200123_133149/2023-01-20-1331_8-U-G-Jup_0000.fits\n",
      "SrcC4G/200123_132709/2023-01-20-1327_1-U-G-Jup_0000.fits\n",
      "SrcC4R/200123_132620/2023-01-20-1326_3-U-G-Jup_0000.fits\n",
      "SrcC4R/200123_132621/2023-01-20-1326_3-U-G-Jup_0000.fits\n"
     ]
    }
   ],
   "source": [
    "textfile = '../testdata/single_2mm/files.txt'\n",
    "path = os.path.dirname(textfile)\n",
    "# wavelengths for red, green, blue\n",
    "lam = np.array([638, 530, 448]) * 1e-9\n",
    "u_all = np.array([])\n",
    "v_all = np.array([])\n",
    "\n",
    "for l in open(textfile, 'r'):\n",
    "\n",
    "    # extract the info from the line\n",
    "    b, filt, file = l.split(' ')\n",
    "    file = file.rstrip()\n",
    "    print(file)\n",
    "\n",
    "    # convert filter name to wavelength\n",
    "    if filt == 'r': wav = lam[0]\n",
    "    if filt == 'g': wav = lam[1]\n",
    "    if filt == 'b': wav = lam[2]\n",
    "\n",
    "    # get b/lambda\n",
    "    u_all = np.append(u_all, float(b)/wav/1e3)\n",
    "\n",
    "    # uncomment one or other of below lines\n",
    "\n",
    "    # get visibility from image fitting\n",
    "    par = np.load(path + '/' + os.path.splitext(file)[0]+'-params.npy')\n",
    "    vis_ = par[6]\n",
    "\n",
    "    # or from saved FT results\n",
    "#     vis = np.load(path + '/' + os.path.splitext(file)[0]+'-FTparams.npy')\n",
    "\n",
    "    v_all = np.append(v_all, vis_)"
   ],
   "metadata": {
    "collapsed": false,
    "ExecuteTime": {
     "start_time": "2024-02-13T14:03:40.240738Z",
     "end_time": "2024-02-13T14:03:40.250180Z"
    }
   }
  },
  {
   "cell_type": "code",
   "execution_count": 10,
   "outputs": [],
   "source": [],
   "metadata": {
    "collapsed": false,
    "ExecuteTime": {
     "start_time": "2024-02-13T14:03:40.250702Z",
     "end_time": "2024-02-13T14:03:40.252325Z"
    }
   }
  }
 ],
 "metadata": {
  "kernelspec": {
   "display_name": "Python 3",
   "language": "python",
   "name": "python3"
  },
  "language_info": {
   "codemirror_mode": {
    "name": "ipython",
    "version": 3
   },
   "file_extension": ".py",
   "mimetype": "text/x-python",
   "name": "python",
   "nbconvert_exporter": "python",
   "pygments_lexer": "ipython3",
   "version": "3.9.16"
  }
 },
 "nbformat": 4,
 "nbformat_minor": 5
}
